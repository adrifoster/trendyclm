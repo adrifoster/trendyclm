{
 "cells": [
  {
   "cell_type": "markdown",
   "id": "d0448b49-931f-41ff-b571-6b46d448ec1b",
   "metadata": {},
   "source": [
    "# Process TRENDY output variables\n",
    "\n",
    "Script to create and write out TRENDY variables for an experiment.\n",
    "\n",
    "This script assumes you have already created single-variable time series files."
   ]
  },
  {
   "cell_type": "markdown",
   "id": "e9bb2e4a-b655-4121-85c0-1b053befc958",
   "metadata": {},
   "source": [
    "## Overall Setup"
   ]
  },
  {
   "cell_type": "code",
   "execution_count": null,
   "id": "d1e67189-a51c-405f-a857-c50cac49142b",
   "metadata": {},
   "outputs": [],
   "source": [
    "import os\n",
    "import glob\n",
    "import dask\n",
    "from dask_jobqueue import PBSCluster\n",
    "from dask.distributed import Client\n",
    "import trendy_functions as trendy"
   ]
  },
  {
   "cell_type": "code",
   "execution_count": null,
   "id": "68aa517e-962d-454f-80eb-81e84f8a0430",
   "metadata": {},
   "outputs": [],
   "source": [
    "print(\"Creating cluster... \", end=\"\")\n",
    "cluster = PBSCluster(\n",
    "    cores=1,\n",
    "    memory='40GB',\n",
    "    processes=1,\n",
    "    queue='casper',\n",
    "    resource_spec='select=1:ncpus=1:mem=25GB',\n",
    "    account='P93300041',\n",
    "    walltime='06:00:00',\n",
    "    log_directory=\"/glade/derecho/scratch/afoster/dask_logs/\",\n",
    "    local_directory='/glade/work/afoster',\n",
    ")\n",
    "cluster.scale(100)\n",
    "dask.config.set({\n",
    "    'distributed.dashboard.link': 'https://jupyterhub.hpc.ucar.edu/stable/user/{USER}/proxy/{port}/status'\n",
    "})\n",
    "client = Client(cluster)\n",
    "client"
   ]
  },
  {
   "cell_type": "code",
   "execution_count": null,
   "id": "9c3c2aae-be6d-41b4-a26b-7d680a8b56d4",
   "metadata": {},
   "outputs": [],
   "source": [
    "# history output directories\n",
    "campaign_dir = \"/glade/campaign/cgd/tss/projects/TRENDY2025\"\n",
    "top_dir = os.path.join(campaign_dir, 'history_outputs')\n",
    "scratch_dir = \"/glade/derecho/scratch/afoster/TRENDY2025\"\n",
    "\n",
    "# information about postprocessing\n",
    "var_df_file = '/glade/work/afoster/TRENDY/trendyclm/trendy_listofvariables_CLM_2025.csv'\n",
    "\n",
    "# CLM parameter file\n",
    "clm_param_file = os.path.join(\"/glade/work/afoster/TRENDY/trendyclm/parameter_files\",\n",
    "                              \"ctsm5.3.041.Nfix_params.v13.c250221_upplim250.nc\")\n",
    "\n",
    "# naming convention\n",
    "case_tag = \"TRENDY2025\"\n",
    "\n",
    "# final output directory\n",
    "output_dir = os.path.join(campaign_dir, 'outputs')"
   ]
  },
  {
   "cell_type": "markdown",
   "id": "a2d3b01e-3a20-4f76-8587-925b09908929",
   "metadata": {},
   "source": [
    "## Experiment Setup"
   ]
  },
  {
   "cell_type": "code",
   "execution_count": null,
   "id": "0cf03ca6-ffe8-4976-a790-76ab284e9862",
   "metadata": {},
   "outputs": [],
   "source": [
    "# experiment\n",
    "exp = 'S3'\n",
    "\n",
    "# location of history directory\n",
    "archive_dir = glob.glob(os.path.join(scratch_dir, \"archive\", f\"{case_tag}_{exp}_*\"))[0]\n",
    "hist_dir = os.path.join(archive_dir, 'lnd', 'hist')\n",
    "\n",
    "# active pft list\n",
    "active_pfts_file = os.path.join(output_dir, f\"CLM_active_pfts_{exp}.txt\")"
   ]
  },
  {
   "cell_type": "markdown",
   "id": "29994771-793f-4108-8894-cdf6048d7161",
   "metadata": {},
   "source": [
    "## Create and Write Out Variables"
   ]
  },
  {
   "cell_type": "markdown",
   "id": "f7bb59e5-83ff-43cf-b7b1-e6a903ecbf61",
   "metadata": {},
   "source": [
    "### Active PFTs\n",
    "Get list of active PFTs for this experiment"
   ]
  },
  {
   "cell_type": "code",
   "execution_count": null,
   "id": "9eeb890e-8fe6-4a59-a41c-459d40aec95c",
   "metadata": {},
   "outputs": [],
   "source": [
    "active_pfts = trendy.get_active_pfts(hist_dir)\n",
    "with open(active_pfts_file, 'w') as file:\n",
    "    for pft in active_pfts:\n",
    "        file.write(f'{pft}\\n')"
   ]
  },
  {
   "cell_type": "markdown",
   "id": "a42858c1-4a4d-4c40-b3c6-2beb36e6091e",
   "metadata": {},
   "source": [
    "### Create output variables"
   ]
  },
  {
   "cell_type": "code",
   "execution_count": null,
   "id": "94f7c9a4-687e-4d23-a6a8-d665475b0859",
   "metadata": {},
   "outputs": [],
   "source": [
    "# create all variables\n",
    "trendy.create_all_trendy_vars(output_dir, var_df_file, exp, top_dir, hist_dir,\n",
    "                              active_pfts, clm_param_file)"
   ]
  },
  {
   "cell_type": "code",
   "execution_count": null,
   "id": "41f01b68-3834-4ddc-9567-eb28bff82899",
   "metadata": {},
   "outputs": [],
   "source": [
    "# client.shutdown()"
   ]
  }
 ],
 "metadata": {
  "kernelspec": {
   "display_name": "NPL 2025a",
   "language": "python",
   "name": "npl-2025a"
  },
  "language_info": {
   "codemirror_mode": {
    "name": "ipython",
    "version": 3
   },
   "file_extension": ".py",
   "mimetype": "text/x-python",
   "name": "python",
   "nbconvert_exporter": "python",
   "pygments_lexer": "ipython3",
   "version": "3.12.8"
  }
 },
 "nbformat": 4,
 "nbformat_minor": 5
}
