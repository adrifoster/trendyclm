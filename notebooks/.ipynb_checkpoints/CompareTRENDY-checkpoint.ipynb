{
 "cells": [
  {
   "cell_type": "code",
   "execution_count": 1,
   "id": "6f66b908-b732-4825-8ee2-ce4b470d6857",
   "metadata": {},
   "outputs": [],
   "source": [
    "import os\n",
    "import glob\n",
    "import pandas as pd\n",
    "import xarray as xr\n",
    "import matplotlib.pyplot as plt\n",
    "import trendy_functions as trendy\n",
    "\n",
    "import cartopy.crs as ccrs\n",
    "import cartopy.feature as cfeature\n",
    "\n",
    "import dask\n",
    "from dask_jobqueue import PBSCluster\n",
    "from dask.distributed import Client"
   ]
  },
  {
   "cell_type": "code",
   "execution_count": 2,
   "id": "e29fb9ba-e23c-4348-835e-3cf5aaaa322a",
   "metadata": {},
   "outputs": [],
   "source": [
    "cluster = PBSCluster(\n",
    "    cores=1,\n",
    "    memory='40GB',\n",
    "    processes=1,\n",
    "    queue='casper',\n",
    "    resource_spec='select=1:ncpus=1:mem=25GB',\n",
    "    account='P93300041',\n",
    "    walltime='06:00:00',\n",
    "    log_directory=\"/glade/derecho/scratch/afoster/dask_logs/\",\n",
    "    local_directory='/glade/work/afoster',\n",
    ")"
   ]
  },
  {
   "cell_type": "code",
   "execution_count": 3,
   "id": "dae77a19-2103-4ef8-985f-3454d963bfcc",
   "metadata": {},
   "outputs": [
    {
     "name": "stdout",
     "output_type": "stream",
     "text": [
      "Creating cluster... "
     ]
    },
    {
     "data": {
      "text/html": [
       "<div>\n",
       "    <div style=\"width: 24px; height: 24px; background-color: #e1e1e1; border: 3px solid #9D9D9D; border-radius: 5px; position: absolute;\"> </div>\n",
       "    <div style=\"margin-left: 48px;\">\n",
       "        <h3 style=\"margin-bottom: 0px;\">Client</h3>\n",
       "        <p style=\"color: #9D9D9D; margin-bottom: 0px;\">Client-a881784b-78c2-11f0-893e-10ffe07f3d17</p>\n",
       "        <table style=\"width: 100%; text-align: left;\">\n",
       "\n",
       "        <tr>\n",
       "        \n",
       "            <td style=\"text-align: left;\"><strong>Connection method:</strong> Cluster object</td>\n",
       "            <td style=\"text-align: left;\"><strong>Cluster type:</strong> dask_jobqueue.PBSCluster</td>\n",
       "        \n",
       "        </tr>\n",
       "\n",
       "        \n",
       "            <tr>\n",
       "                <td style=\"text-align: left;\">\n",
       "                    <strong>Dashboard: </strong> <a href=\"https://jupyterhub.hpc.ucar.edu/stable/user/afoster/proxy/8787/status\" target=\"_blank\">https://jupyterhub.hpc.ucar.edu/stable/user/afoster/proxy/8787/status</a>\n",
       "                </td>\n",
       "                <td style=\"text-align: left;\"></td>\n",
       "            </tr>\n",
       "        \n",
       "\n",
       "        </table>\n",
       "\n",
       "        \n",
       "            <button style=\"margin-bottom: 12px;\" data-commandlinker-command=\"dask:populate-and-launch-layout\" data-commandlinker-args='{\"url\": \"https://jupyterhub.hpc.ucar.edu/stable/user/afoster/proxy/8787/status\" }'>\n",
       "                Launch dashboard in JupyterLab\n",
       "            </button>\n",
       "        \n",
       "\n",
       "        \n",
       "            <details>\n",
       "            <summary style=\"margin-bottom: 20px;\"><h3 style=\"display: inline;\">Cluster Info</h3></summary>\n",
       "            <div class=\"jp-RenderedHTMLCommon jp-RenderedHTML jp-mod-trusted jp-OutputArea-output\">\n",
       "    <div style=\"width: 24px; height: 24px; background-color: #e1e1e1; border: 3px solid #9D9D9D; border-radius: 5px; position: absolute;\">\n",
       "    </div>\n",
       "    <div style=\"margin-left: 48px;\">\n",
       "        <h3 style=\"margin-bottom: 0px; margin-top: 0px;\">PBSCluster</h3>\n",
       "        <p style=\"color: #9D9D9D; margin-bottom: 0px;\">aa749a23</p>\n",
       "        <table style=\"width: 100%; text-align: left;\">\n",
       "            <tr>\n",
       "                <td style=\"text-align: left;\">\n",
       "                    <strong>Dashboard:</strong> <a href=\"https://jupyterhub.hpc.ucar.edu/stable/user/afoster/proxy/8787/status\" target=\"_blank\">https://jupyterhub.hpc.ucar.edu/stable/user/afoster/proxy/8787/status</a>\n",
       "                </td>\n",
       "                <td style=\"text-align: left;\">\n",
       "                    <strong>Workers:</strong> 0\n",
       "                </td>\n",
       "            </tr>\n",
       "            <tr>\n",
       "                <td style=\"text-align: left;\">\n",
       "                    <strong>Total threads:</strong> 0\n",
       "                </td>\n",
       "                <td style=\"text-align: left;\">\n",
       "                    <strong>Total memory:</strong> 0 B\n",
       "                </td>\n",
       "            </tr>\n",
       "            \n",
       "        </table>\n",
       "\n",
       "        <details>\n",
       "            <summary style=\"margin-bottom: 20px;\">\n",
       "                <h3 style=\"display: inline;\">Scheduler Info</h3>\n",
       "            </summary>\n",
       "\n",
       "            <div style=\"\">\n",
       "    <div>\n",
       "        <div style=\"width: 24px; height: 24px; background-color: #FFF7E5; border: 3px solid #FF6132; border-radius: 5px; position: absolute;\"> </div>\n",
       "        <div style=\"margin-left: 48px;\">\n",
       "            <h3 style=\"margin-bottom: 0px;\">Scheduler</h3>\n",
       "            <p style=\"color: #9D9D9D; margin-bottom: 0px;\">Scheduler-ec97dbed-34ca-4c93-a011-e36b3f9cb287</p>\n",
       "            <table style=\"width: 100%; text-align: left;\">\n",
       "                <tr>\n",
       "                    <td style=\"text-align: left;\">\n",
       "                        <strong>Comm:</strong> tcp://128.117.208.200:35989\n",
       "                    </td>\n",
       "                    <td style=\"text-align: left;\">\n",
       "                        <strong>Workers:</strong> 0 \n",
       "                    </td>\n",
       "                </tr>\n",
       "                <tr>\n",
       "                    <td style=\"text-align: left;\">\n",
       "                        <strong>Dashboard:</strong> <a href=\"https://jupyterhub.hpc.ucar.edu/stable/user/afoster/proxy/8787/status\" target=\"_blank\">https://jupyterhub.hpc.ucar.edu/stable/user/afoster/proxy/8787/status</a>\n",
       "                    </td>\n",
       "                    <td style=\"text-align: left;\">\n",
       "                        <strong>Total threads:</strong> 0\n",
       "                    </td>\n",
       "                </tr>\n",
       "                <tr>\n",
       "                    <td style=\"text-align: left;\">\n",
       "                        <strong>Started:</strong> Just now\n",
       "                    </td>\n",
       "                    <td style=\"text-align: left;\">\n",
       "                        <strong>Total memory:</strong> 0 B\n",
       "                    </td>\n",
       "                </tr>\n",
       "            </table>\n",
       "        </div>\n",
       "    </div>\n",
       "\n",
       "    <details style=\"margin-left: 48px;\">\n",
       "        <summary style=\"margin-bottom: 20px;\">\n",
       "            <h3 style=\"display: inline;\">Workers</h3>\n",
       "        </summary>\n",
       "\n",
       "        \n",
       "\n",
       "    </details>\n",
       "</div>\n",
       "\n",
       "        </details>\n",
       "    </div>\n",
       "</div>\n",
       "            </details>\n",
       "        \n",
       "\n",
       "    </div>\n",
       "</div>"
      ],
      "text/plain": [
       "<Client: 'tcp://128.117.208.200:35989' processes=0 threads=0, memory=0 B>"
      ]
     },
     "execution_count": 3,
     "metadata": {},
     "output_type": "execute_result"
    }
   ],
   "source": [
    "print(\"Creating cluster... \", end=\"\")\n",
    "\n",
    "cluster.scale(100)\n",
    "dask.config.set({\n",
    "    'distributed.dashboard.link': 'https://jupyterhub.hpc.ucar.edu/stable/user/{USER}/proxy/{port}/status'\n",
    "})\n",
    "client = Client(cluster)\n",
    "client"
   ]
  },
  {
   "cell_type": "markdown",
   "id": "33b62de8-e3fe-4396-b384-40161d61cd7e",
   "metadata": {},
   "source": [
    "## TRENDY output\n",
    "\n",
    "This script assumes you have already generated the globally gridded files requested by TRENDY."
   ]
  },
  {
   "cell_type": "code",
   "execution_count": 19,
   "id": "21e575b0-57ba-4125-89cd-af8ceb73e8ed",
   "metadata": {},
   "outputs": [],
   "source": [
    "def get_all_vars(output_dir, variable, exps=['S0', 'S1', 'S2', 'S3']):\n",
    "\n",
    "    exp_ds = []\n",
    "    for exp in exps:\n",
    "        exp_ds.append(xr.open_dataset(os.path.join(output_dir, exp,\n",
    "                                                   f'CLM6.0_{exp}_{variable}.nc')))\n",
    "    ds_all = xr.concat(exp_ds, dim=\"experiment\", data_vars=\"all\")\n",
    "    ds_all = ds_all.assign_coords(experiment=(\"experiment\", exps))\n",
    "\n",
    "    return ds_all\n",
    "\n",
    "def get_both_years(output_dir_2024, output_dir_2025, variable, exps=['S0', 'S1', 'S2', 'S3']):\n",
    "    ds2024 = get_all_vars(output_dir_2024, variable, exps=exps)\n",
    "    ds2025 = get_all_vars(output_dir_2025, variable, exps=exps)\n",
    "    ds_both = xr.concat([ds2024, ds2025], dim=\"version\", data_vars=\"all\")\n",
    "    ds_both = ds_both.assign_coords(version=(\"version\", [\"2024\", \"2025\"]))\n",
    "    return ds_both\n",
    "\n",
    "def get_variable_data(variable, var_df, output_dir_2024, output_dir_2025, cf):\n",
    "    \n",
    "    ds = get_both_years(output_dir_2024, output_dir_2025, variable, exps=['S3'])\n",
    "\n",
    "    var_info = var_df[var_df.output_varname == variable]\n",
    "    if var_info.frequency.values[0] == 'monthly':\n",
    "        da = trendy.calculate_annual_mean(ds[variable])\n",
    "    else:\n",
    "        da = ds[variable]\n",
    "\n",
    "    da_glob = trendy.calculate_global_sum(da, land_area_global)*cf\n",
    "\n",
    "    return da, da_glob"
   ]
  },
  {
   "cell_type": "code",
   "execution_count": 22,
   "id": "d4e4016e-0e4d-4a68-a830-1176e3298070",
   "metadata": {},
   "outputs": [],
   "source": [
    "# output directory\n",
    "campaign_dir = \"/glade/campaign/cgd/tss/projects\"\n",
    "output_dir_2025 = os.path.join(campaign_dir, 'TRENDY2025', 'outputs')\n",
    "output_dir_2024 = os.path.join(campaign_dir, 'TRENDY2024', 'to_trendy')\n",
    "\n",
    "# experiment suffixes\n",
    "exps = ['S0', 'S1', 'S2', 'S3']\n",
    "\n",
    "versions = ['2024', '2025']\n",
    "\n",
    "# information about postprocessing\n",
    "var_df_file = '/glade/work/afoster/TRENDY/trendyclm/data/trendy_listofvariables_CLM_2025.csv'\n",
    "var_df = pd.read_csv(var_df_file)\n",
    "output_vars = var_df.output_varname.unique()"
   ]
  },
  {
   "cell_type": "code",
   "execution_count": 7,
   "id": "049c1a18-deae-4019-a0eb-1322a88db3ef",
   "metadata": {},
   "outputs": [],
   "source": [
    "# land fraction and land area information\n",
    "grid_area_file = os.path.join(output_dir_2025, \"S3\", \"CLM6.0_S3_gridArea.nc\")\n",
    "ocean_frac_file = os.path.join(output_dir_2025, \"S3\", \"CLM6.0_S3_oceanCoverFrac.nc\")\n",
    "grid_area = xr.open_dataset(grid_area_file)\n",
    "ocean_frac = xr.open_dataset(ocean_frac_file)\n",
    "land_frac = 1.0 - ocean_frac.oceanCoverFrac\n",
    "land_area_global = grid_area.gridArea * land_frac"
   ]
  },
  {
   "cell_type": "code",
   "execution_count": 9,
   "id": "bd70e090-cc84-4b48-8650-24d88fc93f4d",
   "metadata": {},
   "outputs": [],
   "source": [
    "cf_land = 1 / land_area_global.sum(dim=[\"lat\", \"lon\"]).values\n",
    "cf_PgC = 1e-12 * 24 * 60 * 60 * 365\n",
    "cf_PgC_notime = 1e-12"
   ]
  },
  {
   "cell_type": "code",
   "execution_count": 12,
   "id": "3cb3fb1e-0f71-4e43-b316-0e943d7b493f",
   "metadata": {},
   "outputs": [],
   "source": [
    "cf_dict = {\n",
    "    \"nbp\": cf_PgC,\n",
    "    \"gpp\": cf_PgC,\n",
    "}"
   ]
  },
  {
   "cell_type": "code",
   "execution_count": 20,
   "id": "f32be100-2b0a-4db5-ac68-ce8f890284e7",
   "metadata": {},
   "outputs": [],
   "source": [
    "variable = 'nbp'\n",
    "da, da_glob = get_variable_data(variable, var_df, output_dir_2024,\n",
    "                                output_dir_2025, cf_dict[variable])"
   ]
  },
  {
   "cell_type": "code",
   "execution_count": 25,
   "id": "70472611-0fe0-4da3-8630-a600b6af190d",
   "metadata": {},
   "outputs": [],
   "source": [
    "rolling_mn = da_glob.rolling(year=10).mean()"
   ]
  },
  {
   "cell_type": "code",
   "execution_count": null,
   "id": "b7610ab9-d7a2-4acf-bc5d-278a199db4f0",
   "metadata": {},
   "outputs": [],
   "source": [
    "def plot_rolling_mean(rolling_mn):\n",
    "    trendy.get_blank_plot()\n",
    "    plt.xlim([1901, 2024])\n",
    "    plt.ylim(-2, 6)\n",
    "    plt.grid(True, which=\"both\", axis=\"y\", linestyle=\"--\", linewidth=0.5, color=\"black\", alpha=0.3)\n",
    "    plt.tick_params(bottom=False, top=False, left=False, right=False)\n",
    "    for version in versions:\n",
    "        subset = rolling_mn.sel(version=version)\n",
    "        plt.plot(subset.year, subset, label=version)\n",
    "    plt.axhline(y=0.1, color=\"gray\", linestyle=\":\")\n",
    "    plt.axhline(y=-0.1, color=\"gray\", linestyle=\":\")\n",
    "    plt.xlabel(\"Year\")\n",
    "    plt.ylabel(\"NBP 10-yr running mean (PgC yr$^{-1}$)\")\n",
    "    plt.legend(loc=\"upper left\")"
   ]
  },
  {
   "cell_type": "code",
   "execution_count": 26,
   "id": "a039ec37-a186-48c0-92b6-17afe49648dd",
   "metadata": {},
   "outputs": [
    {
     "data": {
      "text/plain": [
       "<matplotlib.legend.Legend at 0x1503884b8b30>"
      ]
     },
     "execution_count": 26,
     "metadata": {},
     "output_type": "execute_result"
    },
    {
     "data": {
      "image/png": "[encoded data removed]",
      "text/plain": [
       "<Figure size 700x500 with 1 Axes>"
      ]
     },
     "metadata": {},
     "output_type": "display_data"
    }
   ],
   "source": []
  },
  {
   "cell_type": "code",
   "execution_count": null,
   "id": "91b39e1e-e432-4604-ac26-6cb1c49c362b",
   "metadata": {},
   "outputs": [],
   "source": [
    "trendy.get_blank_plot()\n",
    "plt.xlim([1700, 2024])\n",
    "plt.ylim(-200, 200)\n",
    "plt.grid(True, which=\"both\", axis=\"y\", linestyle=\"--\", linewidth=0.5, color=\"black\", alpha=0.3)\n",
    "plt.tick_params(bottom=False, top=False, left=False, right=False)\n",
    "for version in versions:\n",
    "    subset = da_glob.sel(version=version)\n",
    "    csum = subset.cumsum()\n",
    "    plt.plot(subset.year, subset.cumsum(), label=version)\n",
    "plt.axhline(y=0.1, color=\"gray\", linestyle=\":\")\n",
    "plt.axhline(y=-0.1, color=\"gray\", linestyle=\":\")\n",
    "plt.xlabel(\"Year\")\n",
    "plt.ylabel(\"NBP Cumulative Sum (PgC yr$^{-1}$)\")\n",
    "plt.legend(loc=\"upper left\")"
   ]
  },
  {
   "cell_type": "code",
   "execution_count": null,
   "id": "f7297d41-8b7b-4e8e-b18e-fed2ed220e8c",
   "metadata": {},
   "outputs": [],
   "source": [
    "figure, ax = plt.subplots(1, 1, figsize=(13, 6),\n",
    "                            subplot_kw=dict(projection=ccrs.Robinson()),\n",
    "                            layout=\"compressed\")\n",
    "ax.coastlines()\n",
    "ax.add_feature(\n",
    "    cfeature.NaturalEarthFeature(\"physical\", \"ocean\", \"110m\", facecolor=\"white\")\n",
    ")\n",
    "pcm = ax.pcolormesh(\n",
    "    diff.lon,\n",
    "    diff.lat,\n",
    "    diff,\n",
    "    transform=ccrs.PlateCarree(),\n",
    "    shading=\"auto\",\n",
    "    cmap='RdBu_r',\n",
    "    vmin=-0.3,\n",
    "    vmax=0.3\n",
    ")\n",
    "cbar = figure.colorbar(pcm, ax=ax, shrink=0.5, orientation=\"horizontal\")\n",
    "cbar.set_label(\"NBP Difference (kgC/m2)\", size=12, fontweight=\"bold\")"
   ]
  },
  {
   "cell_type": "code",
   "execution_count": null,
   "id": "341e0cf7-93e5-4702-999f-cc010adad696",
   "metadata": {},
   "outputs": [],
   "source": []
  }
 ],
 "metadata": {
  "kernelspec": {
   "display_name": "NPL 2025b",
   "language": "python",
   "name": "npl-2025b"
  },
  "language_info": {
   "codemirror_mode": {
    "name": "ipython",
    "version": 3
   },
   "file_extension": ".py",
   "mimetype": "text/x-python",
   "name": "python",
   "nbconvert_exporter": "python",
   "pygments_lexer": "ipython3",
   "version": "3.12.11"
  }
 },
 "nbformat": 4,
 "nbformat_minor": 5
}
