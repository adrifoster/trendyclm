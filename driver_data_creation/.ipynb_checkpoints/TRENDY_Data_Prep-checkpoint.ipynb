{
 "cells": [
  {
   "cell_type": "markdown",
   "id": "3efa769d-63a6-43b4-b817-9c591bfb6e0d",
   "metadata": {},
   "source": [
    "# TRENDY Data Preparation"
   ]
  },
  {
   "cell_type": "markdown",
   "id": "6086bf54-bd80-40a5-82d7-ada9db298c59",
   "metadata": {},
   "source": [
    "This script creates the N deposition and CO2 files needed for running TRENDY runs"
   ]
  },
  {
   "cell_type": "code",
   "execution_count": 4,
   "id": "3833742e-bb42-4750-b2d6-78c8c35e0918",
   "metadata": {},
   "outputs": [],
   "source": [
    "import os\n",
    "import glob\n",
    "import functools\n",
    "import numpy as np\n",
    "import pandas as pd\n",
    "import xarray as xr\n",
    "import matplotlib.pyplot as plt\n",
    "from datetime import datetime\n",
    "import dask\n",
    "from dask_jobqueue import PBSCluster\n",
    "from dask.distributed import Client\n",
    "import xesmf as xe"
   ]
  },
  {
   "cell_type": "code",
   "execution_count": 2,
   "id": "77ff8d32-36f0-46e9-bde8-36033618e8d2",
   "metadata": {},
   "outputs": [
    {
     "name": "stderr",
     "output_type": "stream",
     "text": [
      "/glade/u/apps/opt/conda/envs/npl-2025a/lib/python3.12/site-packages/distributed/node.py:187: UserWarning: Port 8787 is already in use.\n",
      "Perhaps you already have a cluster running?\n",
      "Hosting the HTTP server on port 37817 instead\n",
      "  warnings.warn(\n"
     ]
    }
   ],
   "source": [
    "# Setup PBSCluster\n",
    "cluster = PBSCluster(\n",
    "    cores=1,                                                   # The number of cores you want\n",
    "    memory='25GB',                                             # Amount of memory\n",
    "    processes=1,                                               # How many processes\n",
    "    queue='casper',                                            # The type of queue to utilize\n",
    "    local_directory='/glade/work/afoster',                     # Use your local directory\n",
    "    resource_spec='select=1:ncpus=1:mem=25GB',                 # Specify resources\n",
    "    log_directory='/glade/derecho/scratch/afoster/dask_logs',  # log directory\n",
    "    account='P08010000',                                       # Input your project ID here\n",
    "    walltime='10:00:00',                                       # Amount of wall time\n",
    "    interface='ext')     "
   ]
  },
  {
   "cell_type": "code",
   "execution_count": 5,
   "id": "2b15f1a8-4ad9-4a95-9855-011b4116bb82",
   "metadata": {},
   "outputs": [
    {
     "data": {
      "text/html": [
       "<div>\n",
       "    <div style=\"width: 24px; height: 24px; background-color: #e1e1e1; border: 3px solid #9D9D9D; border-radius: 5px; position: absolute;\"> </div>\n",
       "    <div style=\"margin-left: 48px;\">\n",
       "        <h3 style=\"margin-bottom: 0px;\">Client</h3>\n",
       "        <p style=\"color: #9D9D9D; margin-bottom: 0px;\">Client-f1519ab4-523c-11f0-90aa-10ffe07f3cea</p>\n",
       "        <table style=\"width: 100%; text-align: left;\">\n",
       "\n",
       "        <tr>\n",
       "        \n",
       "            <td style=\"text-align: left;\"><strong>Connection method:</strong> Cluster object</td>\n",
       "            <td style=\"text-align: left;\"><strong>Cluster type:</strong> dask_jobqueue.PBSCluster</td>\n",
       "        \n",
       "        </tr>\n",
       "\n",
       "        \n",
       "            <tr>\n",
       "                <td style=\"text-align: left;\">\n",
       "                    <strong>Dashboard: </strong> <a href=\"https://jupyterhub.hpc.ucar.edu/stable/user/afoster/proxy/37817/status\" target=\"_blank\">https://jupyterhub.hpc.ucar.edu/stable/user/afoster/proxy/37817/status</a>\n",
       "                </td>\n",
       "                <td style=\"text-align: left;\"></td>\n",
       "            </tr>\n",
       "        \n",
       "\n",
       "        </table>\n",
       "\n",
       "        \n",
       "            <button style=\"margin-bottom: 12px;\" data-commandlinker-command=\"dask:populate-and-launch-layout\" data-commandlinker-args='{\"url\": \"https://jupyterhub.hpc.ucar.edu/stable/user/afoster/proxy/37817/status\" }'>\n",
       "                Launch dashboard in JupyterLab\n",
       "            </button>\n",
       "        \n",
       "\n",
       "        \n",
       "            <details>\n",
       "            <summary style=\"margin-bottom: 20px;\"><h3 style=\"display: inline;\">Cluster Info</h3></summary>\n",
       "            <div class=\"jp-RenderedHTMLCommon jp-RenderedHTML jp-mod-trusted jp-OutputArea-output\">\n",
       "    <div style=\"width: 24px; height: 24px; background-color: #e1e1e1; border: 3px solid #9D9D9D; border-radius: 5px; position: absolute;\">\n",
       "    </div>\n",
       "    <div style=\"margin-left: 48px;\">\n",
       "        <h3 style=\"margin-bottom: 0px; margin-top: 0px;\">PBSCluster</h3>\n",
       "        <p style=\"color: #9D9D9D; margin-bottom: 0px;\">8e57f554</p>\n",
       "        <table style=\"width: 100%; text-align: left;\">\n",
       "            <tr>\n",
       "                <td style=\"text-align: left;\">\n",
       "                    <strong>Dashboard:</strong> <a href=\"https://jupyterhub.hpc.ucar.edu/stable/user/afoster/proxy/37817/status\" target=\"_blank\">https://jupyterhub.hpc.ucar.edu/stable/user/afoster/proxy/37817/status</a>\n",
       "                </td>\n",
       "                <td style=\"text-align: left;\">\n",
       "                    <strong>Workers:</strong> 0\n",
       "                </td>\n",
       "            </tr>\n",
       "            <tr>\n",
       "                <td style=\"text-align: left;\">\n",
       "                    <strong>Total threads:</strong> 0\n",
       "                </td>\n",
       "                <td style=\"text-align: left;\">\n",
       "                    <strong>Total memory:</strong> 0 B\n",
       "                </td>\n",
       "            </tr>\n",
       "            \n",
       "        </table>\n",
       "\n",
       "        <details>\n",
       "            <summary style=\"margin-bottom: 20px;\">\n",
       "                <h3 style=\"display: inline;\">Scheduler Info</h3>\n",
       "            </summary>\n",
       "\n",
       "            <div style=\"\">\n",
       "    <div>\n",
       "        <div style=\"width: 24px; height: 24px; background-color: #FFF7E5; border: 3px solid #FF6132; border-radius: 5px; position: absolute;\"> </div>\n",
       "        <div style=\"margin-left: 48px;\">\n",
       "            <h3 style=\"margin-bottom: 0px;\">Scheduler</h3>\n",
       "            <p style=\"color: #9D9D9D; margin-bottom: 0px;\">Scheduler-419d12ee-c1b3-48f2-9f16-f7930158bd3e</p>\n",
       "            <table style=\"width: 100%; text-align: left;\">\n",
       "                <tr>\n",
       "                    <td style=\"text-align: left;\">\n",
       "                        <strong>Comm:</strong> tcp://128.117.208.174:33163\n",
       "                    </td>\n",
       "                    <td style=\"text-align: left;\">\n",
       "                        <strong>Workers:</strong> 0\n",
       "                    </td>\n",
       "                </tr>\n",
       "                <tr>\n",
       "                    <td style=\"text-align: left;\">\n",
       "                        <strong>Dashboard:</strong> <a href=\"https://jupyterhub.hpc.ucar.edu/stable/user/afoster/proxy/37817/status\" target=\"_blank\">https://jupyterhub.hpc.ucar.edu/stable/user/afoster/proxy/37817/status</a>\n",
       "                    </td>\n",
       "                    <td style=\"text-align: left;\">\n",
       "                        <strong>Total threads:</strong> 0\n",
       "                    </td>\n",
       "                </tr>\n",
       "                <tr>\n",
       "                    <td style=\"text-align: left;\">\n",
       "                        <strong>Started:</strong> Just now\n",
       "                    </td>\n",
       "                    <td style=\"text-align: left;\">\n",
       "                        <strong>Total memory:</strong> 0 B\n",
       "                    </td>\n",
       "                </tr>\n",
       "            </table>\n",
       "        </div>\n",
       "    </div>\n",
       "\n",
       "    <details style=\"margin-left: 48px;\">\n",
       "        <summary style=\"margin-bottom: 20px;\">\n",
       "            <h3 style=\"display: inline;\">Workers</h3>\n",
       "        </summary>\n",
       "\n",
       "        \n",
       "\n",
       "    </details>\n",
       "</div>\n",
       "\n",
       "        </details>\n",
       "    </div>\n",
       "</div>\n",
       "            </details>\n",
       "        \n",
       "\n",
       "    </div>\n",
       "</div>"
      ],
      "text/plain": [
       "<Client: 'tcp://128.117.208.174:33163' processes=0 threads=0, memory=0 B>"
      ]
     },
     "execution_count": 5,
     "metadata": {},
     "output_type": "execute_result"
    }
   ],
   "source": [
    "cluster.scale(20)\n",
    "dask.config.set({\n",
    "    'distributed.dashboard.link': 'https://jupyterhub.hpc.ucar.edu/stable/user/{USER}/proxy/{port}/status'\n",
    "})\n",
    "client = Client(cluster)\n",
    "client"
   ]
  },
  {
   "cell_type": "code",
   "execution_count": 11,
   "id": "61247bd8-4fcf-4075-80c8-2d1a03266c63",
   "metadata": {},
   "outputs": [],
   "source": [
    "top_dir = '/glade/campaign/cgd/tss/projects'\n",
    "old_trendy_year = 2024\n",
    "new_trendy_year = 2025"
   ]
  },
  {
   "cell_type": "code",
   "execution_count": 7,
   "id": "32743837-0711-43e6-861b-ea8ae4cc04bd",
   "metadata": {},
   "outputs": [],
   "source": [
    "old_start = old_trendy_year - 1700\n",
    "new_start = new_trendy_year - 1700"
   ]
  },
  {
   "cell_type": "markdown",
   "id": "aea414c8-e337-4bd7-92e2-909069958533",
   "metadata": {},
   "source": [
    "## CO2 file"
   ]
  },
  {
   "cell_type": "code",
   "execution_count": 12,
   "id": "a8545eef-75af-4b46-af9b-f7d4ee05bd9d",
   "metadata": {},
   "outputs": [],
   "source": [
    "# use previous TRENDY simulation's dataset as a template for making a new one\n",
    "previous_trendy_co2_file = os.path.join(top_dir, \"TRENDY2024/inputs/CO2\",\n",
    "                                        \"fco2_datm_global_simyr_1700-2023_TRENDY_c240815.nc\")\n",
    "previous_trendy_co2_data = xr.open_dataset(previous_trendy_co2_file, decode_times=False)"
   ]
  },
  {
   "cell_type": "code",
   "execution_count": 14,
   "id": "51c41dda-c750-4451-b43d-e9d1c9706337",
   "metadata": {},
   "outputs": [],
   "source": [
    "co2_dir = 'TRENDY2025/inputs/CO2field'\n",
    "co2_file = 'global_co2_ann_1700_2024.txt'\n",
    "co2_file_path = os.path.join(top_dir, co2_dir, co2_file)\n",
    "co2_data = pd.read_csv(co2_file_path, header=None, sep='  ', engine='python')"
   ]
  },
  {
   "cell_type": "code",
   "execution_count": 18,
   "id": "712a31ad-1b91-4293-beec-03be0b8ec6bf",
   "metadata": {},
   "outputs": [],
   "source": [
    "co2 = co2_data[1].values\n",
    "year = co2_data[0].values"
   ]
  },
  {
   "cell_type": "code",
   "execution_count": 19,
   "id": "a0b574dd-04ea-4fef-9c9d-e88b02bbc078",
   "metadata": {},
   "outputs": [
    {
     "data": {
      "image/png": "[encoded data removed]",
      "text/plain": [
       "<Figure size 640x480 with 1 Axes>"
      ]
     },
     "metadata": {},
     "output_type": "display_data"
    }
   ],
   "source": [
    "plt.plot(year, co2)\n",
    "plt.xlabel(\"Year\")\n",
    "plt.ylabel(\"CO$_2$ Concentration (ppm)\");"
   ]
  },
  {
   "cell_type": "code",
   "execution_count": 25,
   "id": "56e1a149-32b2-468c-a0b4-96fc6eb27b8a",
   "metadata": {},
   "outputs": [
    {
     "data": {
      "text/plain": [
       "[<matplotlib.lines.Line2D at 0x147be6157950>]"
      ]
     },
     "execution_count": 25,
     "metadata": {},
     "output_type": "execute_result"
    },
    {
     "data": {
      "image/png": "[encoded data removed]",
      "text/plain": [
       "<Figure size 640x480 with 1 Axes>"
      ]
     },
     "metadata": {},
     "output_type": "display_data"
    }
   ],
   "source": [
    "# create a days since Jan1700 array based on years\n",
    "days_since_jan1700 = (year - 1700.0)*365.0 + 181.0\n",
    "plt.plot(days_since_jan1700[:-1] - previous_trendy_co2_data.time.values, '.')"
   ]
  },
  {
   "cell_type": "code",
   "execution_count": 27,
   "id": "b735ba65-c221-40e9-9bdf-c9e86241185d",
   "metadata": {},
   "outputs": [],
   "source": [
    "# copy old dataset\n",
    "out_co2_ds = previous_trendy_co2_data.copy(deep=True)\n",
    "\n",
    "# reindex time to add the extra dates\n",
    "out_co2_ds = out_co2_ds.reindex({\"time\": days_since_jan1700})\n",
    "\n",
    "# use new CO2 data\n",
    "out_co2_ds['CO2'] = xr.DataArray(co2[:, np.newaxis,np.newaxis], dims=out_co2_ds.CO2.dims)\n",
    "\n",
    "# fill in other stuff\n",
    "out_co2_ds.time_bnds.values[old_start:new_start] = [9.96921e+36, 9.96921e+36]"
   ]
  },
  {
   "cell_type": "code",
   "execution_count": 29,
   "id": "1135c7e7-3a96-4b6a-ad1e-5d606fcbf632",
   "metadata": {},
   "outputs": [],
   "source": [
    "out_co2_ds.time.attrs = {'long_name': 'time',\n",
    "                         'units': 'days since 1700-01-01',\n",
    "                         'calendar': 'gregorian'}"
   ]
  },
  {
   "cell_type": "code",
   "execution_count": 30,
   "id": "06636632-b3ee-4af8-82fa-a6d35f53b5de",
   "metadata": {},
   "outputs": [
    {
     "data": {
      "text/plain": [
       "[<matplotlib.lines.Line2D at 0x147be4931460>]"
      ]
     },
     "execution_count": 30,
     "metadata": {},
     "output_type": "execute_result"
    },
    {
     "data": {
      "image/png": "[encoded data removed]",
      "text/plain": [
       "<Figure size 640x480 with 1 Axes>"
      ]
     },
     "metadata": {},
     "output_type": "display_data"
    }
   ],
   "source": [
    "out_co2_ds.CO2.plot()"
   ]
  },
  {
   "cell_type": "code",
   "execution_count": 31,
   "id": "9722902b-ecb3-4cfd-9e05-5d9f89c56965",
   "metadata": {},
   "outputs": [],
   "source": [
    "# write the file\n",
    "date = datetime.now().strftime(\"%m/%d/%Y %H:%M\")\n",
    "hist_str = f'{date}: converted by TRENDY2024_Data_Prep.ipynb'\n",
    "out_co2_ds.attrs={'history': hist_str, \n",
    "           'creation_date': date,\n",
    "           'source': f'converted from {co2_file}',\n",
    "           'creator': 'Adrianna Foster, afoster@ucar.edu'}"
   ]
  },
  {
   "cell_type": "code",
   "execution_count": 33,
   "id": "932ffa86-570b-4a75-8172-87b96a4ba73c",
   "metadata": {},
   "outputs": [],
   "source": [
    "out_file = f'fco2_datm_global_simyr_1700-{new_trendy_year-1}_TRENDY_c{datetime.now().strftime(\"%y%m%d\")}.nc'\n",
    "out_co2_ds.to_netcdf(os.path.join(top_dir, co2_dir, out_file))"
   ]
  },
  {
   "cell_type": "code",
   "execution_count": 34,
   "id": "403673f0-223b-4956-ba25-3100ff37d96d",
   "metadata": {},
   "outputs": [],
   "source": [
    "ds = xr.open_dataset(os.path.join(top_dir, co2_dir, out_file), decode_times=False)"
   ]
  },
  {
   "cell_type": "code",
   "execution_count": 35,
   "id": "6bf6ff9f-343c-43d9-be5e-79e8f85d6fb1",
   "metadata": {},
   "outputs": [
    {
     "data": {
      "text/plain": [
       "[<matplotlib.lines.Line2D at 0x147be46e69f0>]"
      ]
     },
     "execution_count": 35,
     "metadata": {},
     "output_type": "execute_result"
    },
    {
     "data": {
      "image/png": "[encoded data removed]",
      "text/plain": [
       "<Figure size 640x480 with 1 Axes>"
      ]
     },
     "metadata": {},
     "output_type": "display_data"
    }
   ],
   "source": [
    "ds.CO2.plot()\n",
    "plt.plot(days_since_jan1700, co2)\n",
    "#plt.plot(ds.time.values, ds.CO2.values)"
   ]
  },
  {
   "cell_type": "markdown",
   "id": "01793638-3143-4cea-840e-f749c177d2b2",
   "metadata": {},
   "source": [
    "## NDEP File"
   ]
  },
  {
   "cell_type": "code",
   "execution_count": 36,
   "id": "3c9670d9-fb5d-4e8c-adc1-657107722091",
   "metadata": {},
   "outputs": [],
   "source": [
    "previous_trendy_ndep_file = os.path.join(top_dir, 'TRENDY2024',\n",
    "                                         'inputs', 'ndep',\n",
    "                                         'TRENDY2024_Ndep_Monthly_c240725.nc')\n",
    "previous_trendy_ndep_data = xr.open_dataset(previous_trendy_ndep_file)"
   ]
  },
  {
   "cell_type": "code",
   "execution_count": 37,
   "id": "b39dfaf6-14a0-4da1-9817-e1ddc94a7351",
   "metadata": {},
   "outputs": [],
   "source": [
    "# read in the correct files\n",
    "ndep_dir = 'TRENDY2025/inputs/ndep'\n",
    "ndep_files = glob.glob(os.path.join(top_dir, ndep_dir, '*CMIP_hist_ssp585_NCAR-CCMI-2-0_gn_185001-209912.720x360.nc'))\n",
    "ndep_data = xr.open_mfdataset(ndep_files, combine='nested', decode_times=False,\n",
    "                              parallel=True, chunks={'time':12})"
   ]
  },
  {
   "cell_type": "code",
   "execution_count": 39,
   "id": "d7555de0-fc61-4d3c-a9d8-8591cc3df8ca",
   "metadata": {},
   "outputs": [],
   "source": [
    "# the names are different - so match them up\n",
    "clm_names = ['dry_deposition_NHx_as_N', 'dry_deposition_NOy_as_N',\n",
    "             'wet_deposition_NHx_as_N','wet_deposition_NOy_as_N']\n",
    "trendy_names = ['drynhx', 'drynoy', 'wetnhx', 'wetnoy']"
   ]
  },
  {
   "cell_type": "code",
   "execution_count": 40,
   "id": "ca3e4785-72fe-45f0-a11b-f4c0b61602ff",
   "metadata": {},
   "outputs": [],
   "source": [
    "# make the new dataset\n",
    "ndep = xr.Dataset()\n",
    "for clm_var, trendy_var in zip(clm_names, trendy_names):\n",
    "    ndep[clm_var] = ndep_data[trendy_var].copy(deep=True)"
   ]
  },
  {
   "cell_type": "code",
   "execution_count": 41,
   "id": "eb8a445b-1a2d-4984-afe1-c05fca059c5a",
   "metadata": {},
   "outputs": [],
   "source": [
    "# add some extra variables CLM needs\n",
    "noy_month_var = 'NDEP_NOy_month'\n",
    "nhx_month_var = 'NDEP_NHx_month'\n",
    "ntot_month_var = 'NDEP_month'"
   ]
  },
  {
   "cell_type": "code",
   "execution_count": 42,
   "id": "565f5014-6e89-4755-b4f6-7312fa701e42",
   "metadata": {},
   "outputs": [],
   "source": [
    "ndep[noy_month_var] = 1000.0*(ndep_data.drynoy + ndep_data.wetnoy).copy(deep=True)\n",
    "ndep[noy_month_var].attrs = previous_trendy_ndep_data[noy_month_var].attrs"
   ]
  },
  {
   "cell_type": "code",
   "execution_count": 43,
   "id": "67e174be-3224-4d24-8a23-21d26bafa003",
   "metadata": {},
   "outputs": [],
   "source": [
    "ndep[nhx_month_var] = 1000.0*(ndep_data.drynhx + ndep_data.wetnhx).copy(deep=True)\n",
    "ndep[nhx_month_var].attrs = previous_trendy_ndep_data[nhx_month_var].attrs"
   ]
  },
  {
   "cell_type": "code",
   "execution_count": 44,
   "id": "39992085-c558-49a8-a629-265953ae0001",
   "metadata": {},
   "outputs": [],
   "source": [
    "ndep[ntot_month_var] = ndep[noy_month_var] + ndep[nhx_month_var]\n",
    "ndep[ntot_month_var].attrs = previous_trendy_ndep_data[ntot_month_var].attrs\n",
    "ndep['time'] = previous_trendy_ndep_data['time'].copy(deep=True)"
   ]
  },
  {
   "cell_type": "code",
   "execution_count": 46,
   "id": "54186097-a3ef-41ad-8e3b-4d2642d08368",
   "metadata": {},
   "outputs": [],
   "source": [
    "# write the file\n",
    "date = datetime.now().strftime(\"%m/%d/%Y %H:%M\")\n",
    "hist_str = f'{date}: converted by TRENDY2024_Data_Prep.ipynb'\n",
    "ndep.attrs = {'history': hist_str, \n",
    "           'creation_date': date,\n",
    "           'source': f'converted from {ndep_files[0]}, and others',\n",
    "           'creator': 'Adrianna Foster, afoster@ucar.edu'}"
   ]
  },
  {
   "cell_type": "code",
   "execution_count": 47,
   "id": "d2b10862-8f3a-4eae-991a-74a03e1f79f9",
   "metadata": {},
   "outputs": [],
   "source": [
    "out_file = f'TRENDY2025_Ndep_Monthly_c{datetime.now().strftime(\"%y%m%d\")}.nc'\n",
    "out_path = os.path.join(top_dir, ndep_dir, out_file)\n",
    "ndep.to_netcdf(out_path)"
   ]
  },
  {
   "cell_type": "markdown",
   "id": "5921c745-a249-4497-b785-ad1d27b87e48",
   "metadata": {},
   "source": [
    "## Population"
   ]
  },
  {
   "cell_type": "code",
   "execution_count": 48,
   "id": "058fa488-0ff6-44c3-b06e-6fca448b248b",
   "metadata": {},
   "outputs": [],
   "source": [
    "def cell_areas(lat: np.ndarray, lon: np.ndarray) -> np.ndarray:\n",
    "    \"\"\"Given arrays of latitude and longitude, return cell areas in square meters\n",
    "\n",
    "    Args:\n",
    "        lat (np.ndarray): a 1D array of latitudes (cell centroids)\n",
    "        lon (np.ndarray): a 1D array of longitudes (cell centroids)\n",
    "\n",
    "    Returns:\n",
    "        np.ndarray: a 2D array of cell areas [m2]\n",
    "    \"\"\"\n",
    "    \n",
    "    EARTH_RAD = 6.371e6\n",
    "\n",
    "    x = np.zeros(lon.size + 1)\n",
    "    x[1:-1] = 0.5*(lon[1:] + lon[:-1])\n",
    "    x[0] = lon[0] - 0.5*(lon[1] - lon[0])\n",
    "    x[-1] = lon[-1] + 0.5*(lon[-1] - lon[-2])\n",
    "    \n",
    "    if x.max() > 181:\n",
    "        x -= 180\n",
    "    x = x.clip(-180, 180)\n",
    "    x *= np.pi/180.0\n",
    "\n",
    "    y = np.zeros(lat.size + 1)\n",
    "    y[1:-1] = 0.5*(lat[1:] + lat[:-1])\n",
    "    y[0] = lat[0] - 0.5*(lat[1] - lat[0])\n",
    "    y[-1] = lat[-1] + 0.5*(lat[-1] - lat[-2])\n",
    "    \n",
    "    y = y.clip(-90, 90)\n",
    "    y *= np.pi/180.0\n",
    "\n",
    "    dx = EARTH_RAD*(x[1:] - x[:-1])\n",
    "    dy = EARTH_RAD*(np.sin(y[1:]) - np.sin(y[:-1]))\n",
    "    areas = np.outer(dx, dy).T\n",
    "\n",
    "    return areas"
   ]
  },
  {
   "cell_type": "code",
   "execution_count": 70,
   "id": "b68d4294-b5e2-4b18-b753-6ba64e61e809",
   "metadata": {},
   "outputs": [],
   "source": [
    "def adjust_lon(ds, lon_name):\n",
    "\n",
    "    # Adjust lon values to make sure they are within (-180, 180)\n",
    "    ds['_longitude_adjusted'] = xr.where(\n",
    "        ds[lon_name] > 180,\n",
    "        ds[lon_name] - 360,\n",
    "        ds[lon_name])\n",
    "\n",
    "    # reassign the new coords to as the main lon coords\n",
    "    # and sort DataArray using new coordinate values\n",
    "    ds = (\n",
    "        ds\n",
    "        .swap_dims({lon_name: '_longitude_adjusted'})\n",
    "        .sel(**{'_longitude_adjusted': sorted(ds._longitude_adjusted)})\n",
    "        .drop_vars(lon_name))\n",
    "\n",
    "    ds = ds.rename({'_longitude_adjusted': lon_name})\n",
    "    \n",
    "    return ds\n",
    "\n",
    "def get_target_grid(ds, variable):\n",
    "    \n",
    "    target_grid = ds[variable].isel(time=0)\n",
    "    target_grid[\"area\"] = ds[\"area\"].fillna(0)\n",
    "    target_grid[\"landmask\"] = ds[\"landmask\"].fillna(0)\n",
    "    target_grid[\"landfrac\"] = ds[\"landfrac\"].fillna(0)\n",
    "    target_grid[\"land_area\"] = target_grid.area * target_grid.landfrac\n",
    "    return target_grid"
   ]
  },
  {
   "cell_type": "code",
   "execution_count": 50,
   "id": "5e606b0f-446a-4070-ac57-74fd715c1a71",
   "metadata": {},
   "outputs": [],
   "source": [
    "trendy_pop_dir = os.path.join(top_dir, 'TRENDY2025/inputs/pop')\n",
    "trendy_pop_file = 'population.nc'"
   ]
  },
  {
   "cell_type": "code",
   "execution_count": 53,
   "id": "ba35488e-f3e8-40a4-943f-4908964035b5",
   "metadata": {},
   "outputs": [],
   "source": [
    "trendy_pop = xr.open_dataset(os.path.join(trendy_pop_dir, trendy_pop_file))\n",
    "trendy_pop = trendy_pop.sel(time=slice('1700-01-01', '2024-01-01'))"
   ]
  },
  {
   "cell_type": "code",
   "execution_count": 54,
   "id": "85b8f49a-d501-4c6a-996b-08d8b2784d78",
   "metadata": {},
   "outputs": [],
   "source": [
    "# calculate land area [m2]\n",
    "lons = trendy_pop.lon.values\n",
    "lats = np.array(sorted(trendy_pop.lat.values))\n",
    "trendy_cell_areas = cell_areas(lats, lons)\n",
    "trendy_land_area = xr.DataArray(trendy_cell_areas, coords={\"lat\": lats, \"lon\": lons})\n",
    "trendy_pop['area'] = trendy_land_area"
   ]
  },
  {
   "cell_type": "code",
   "execution_count": 75,
   "id": "0a72bc99-c9a3-418c-8654-1463a1de29a7",
   "metadata": {},
   "outputs": [],
   "source": [
    "# calculate per km2 land area\n",
    "# trendy_pop['land_area'] = trendy_pop['area']*trendy_pop['landfrac']\n",
    "trendy_pop['pop_per_km2'] = (trendy_pop.population/trendy_pop.area/1e-6)"
   ]
  },
  {
   "cell_type": "code",
   "execution_count": 76,
   "id": "e546b022-427d-4b16-9393-08cfcd24c274",
   "metadata": {},
   "outputs": [],
   "source": [
    "# read in old file\n",
    "popdens_clm_file = '/glade/campaign/cesm/cesmdata/inputdata/lnd/clm2/firedata/clmforc.Li_2017_HYDEv3.2_CMIP6_hdm_0.5x0.5_AVHRR_simyr1850-2016_c180202.nc'\n",
    "clm_pop = xr.open_dataset(popdens_clm_file)"
   ]
  },
  {
   "cell_type": "code",
   "execution_count": 79,
   "id": "f41a2185-b6e3-4b71-977b-0be4f64d6ad9",
   "metadata": {},
   "outputs": [],
   "source": [
    "# interpolate to clm grid\n",
    "trendy_pop_interp = trendy_pop.interp(lat=clm_pop['lat'], lon=clm_pop['lon'])"
   ]
  },
  {
   "cell_type": "code",
   "execution_count": 80,
   "id": "174d0eb2-b4db-4782-899f-aa7fa4885b67",
   "metadata": {},
   "outputs": [],
   "source": [
    "# create time array\n",
    "year = np.arange(1700, 2025)\n",
    "days_since_jan1700 = (year - 1700.0)*365.0 + 184.0\n",
    "time_array = xr.DataArray(days_since_jan1700, dims='time')"
   ]
  },
  {
   "cell_type": "code",
   "execution_count": 81,
   "id": "53a35380-503f-43c4-9007-3f294dc44bd6",
   "metadata": {},
   "outputs": [
    {
     "ename": "TypeError",
     "evalue": "When interpolating over a datetime-like coordinate, the coordinates to interpolate to must be either datetime strings or datetimes. Instead got\n<xarray.Variable (time: 325)> Size: 3kB\narray([   184.,    549.,    914.,   1279.,   1644.,   2009.,   2374.,\n         2739.,   3104.,   3469.,   3834.,   4199.,   4564.,   4929.,\n         5294.,   5659.,   6024.,   6389.,   6754.,   7119.,   7484.,\n         7849.,   8214.,   8579.,   8944.,   9309.,   9674.,  10039.,\n        10404.,  10769.,  11134.,  11499.,  11864.,  12229.,  12594.,\n        12959.,  13324.,  13689.,  14054.,  14419.,  14784.,  15149.,\n        15514.,  15879.,  16244.,  16609.,  16974.,  17339.,  17704.,\n        18069.,  18434.,  18799.,  19164.,  19529.,  19894.,  20259.,\n        20624.,  20989.,  21354.,  21719.,  22084.,  22449.,  22814.,\n        23179.,  23544.,  23909.,  24274.,  24639.,  25004.,  25369.,\n        25734.,  26099.,  26464.,  26829.,  27194.,  27559.,  27924.,\n        28289.,  28654.,  29019.,  29384.,  29749.,  30114.,  30479.,\n        30844.,  31209.,  31574.,  31939.,  32304.,  32669.,  33034.,\n        33399.,  33764.,  34129.,  34494.,  34859.,  35224.,  35589.,\n        35954.,  36319.,  36684.,  37049.,  37414.,  37779.,  38144.,\n        38509.,  38874.,  39239.,  39604.,  39969.,  40334.,  40699.,\n        41064.,  41429.,  41794.,  42159.,  42524.,  42889.,  43254.,\n        43619.,  43984.,  44349.,  44714.,  45079.,  45444.,  45809.,\n        46174.,  46539.,  46904.,  47269.,  47634.,  47999.,  48364.,\n        48729.,  49094.,  49459.,  49824.,  50189.,  50554.,  50919.,\n...\n        69169.,  69534.,  69899.,  70264.,  70629.,  70994.,  71359.,\n        71724.,  72089.,  72454.,  72819.,  73184.,  73549.,  73914.,\n        74279.,  74644.,  75009.,  75374.,  75739.,  76104.,  76469.,\n        76834.,  77199.,  77564.,  77929.,  78294.,  78659.,  79024.,\n        79389.,  79754.,  80119.,  80484.,  80849.,  81214.,  81579.,\n        81944.,  82309.,  82674.,  83039.,  83404.,  83769.,  84134.,\n        84499.,  84864.,  85229.,  85594.,  85959.,  86324.,  86689.,\n        87054.,  87419.,  87784.,  88149.,  88514.,  88879.,  89244.,\n        89609.,  89974.,  90339.,  90704.,  91069.,  91434.,  91799.,\n        92164.,  92529.,  92894.,  93259.,  93624.,  93989.,  94354.,\n        94719.,  95084.,  95449.,  95814.,  96179.,  96544.,  96909.,\n        97274.,  97639.,  98004.,  98369.,  98734.,  99099.,  99464.,\n        99829., 100194., 100559., 100924., 101289., 101654., 102019.,\n       102384., 102749., 103114., 103479., 103844., 104209., 104574.,\n       104939., 105304., 105669., 106034., 106399., 106764., 107129.,\n       107494., 107859., 108224., 108589., 108954., 109319., 109684.,\n       110049., 110414., 110779., 111144., 111509., 111874., 112239.,\n       112604., 112969., 113334., 113699., 114064., 114429., 114794.,\n       115159., 115524., 115889., 116254., 116619., 116984., 117349.,\n       117714., 118079., 118444.])",
     "output_type": "error",
     "traceback": [
      "\u001b[0;31m---------------------------------------------------------------------------\u001b[0m",
      "\u001b[0;31mTypeError\u001b[0m                                 Traceback (most recent call last)",
      "\u001b[0;32m/glade/derecho/scratch/afoster/tmp/ipykernel_53418/4221672980.py\u001b[0m in \u001b[0;36m?\u001b[0;34m()\u001b[0m\n\u001b[1;32m      1\u001b[0m \u001b[0;31m# interpolate time\u001b[0m\u001b[0;34m\u001b[0m\u001b[0;34m\u001b[0m\u001b[0m\n\u001b[0;32m----> 2\u001b[0;31m trendy_interp_time = trendy_pop_interp.interp(lat=trendy_pop_interp.lat,\n\u001b[0m\u001b[1;32m      3\u001b[0m                                               \u001b[0mlon\u001b[0m\u001b[0;34m=\u001b[0m\u001b[0mtrendy_pop_interp\u001b[0m\u001b[0;34m.\u001b[0m\u001b[0mlon\u001b[0m\u001b[0;34m,\u001b[0m\u001b[0;34m\u001b[0m\u001b[0;34m\u001b[0m\u001b[0m\n\u001b[1;32m      4\u001b[0m                                               \u001b[0mtime\u001b[0m\u001b[0;34m=\u001b[0m\u001b[0mtime_array\u001b[0m\u001b[0;34m)\u001b[0m\u001b[0;34m\u001b[0m\u001b[0;34m\u001b[0m\u001b[0m\n",
      "\u001b[0;32m/glade/u/apps/opt/conda/envs/npl-2025a/lib/python3.12/site-packages/xarray/core/dataset.py\u001b[0m in \u001b[0;36m?\u001b[0;34m(self, coords, method, assume_sorted, kwargs, method_non_numeric, **coords_kwargs)\u001b[0m\n\u001b[1;32m   4143\u001b[0m                     \u001b[0;34mf\"\u001b[0m\u001b[0;34mInstead got\\n\u001b[0m\u001b[0;34m{\u001b[0m\u001b[0mnew_x\u001b[0m\u001b[0;34m}\u001b[0m\u001b[0;34m\"\u001b[0m\u001b[0;34m\u001b[0m\u001b[0;34m\u001b[0m\u001b[0m\n\u001b[1;32m   4144\u001b[0m                 \u001b[0;34m)\u001b[0m\u001b[0;34m\u001b[0m\u001b[0;34m\u001b[0m\u001b[0m\n\u001b[1;32m   4145\u001b[0m             \u001b[0;32mreturn\u001b[0m \u001b[0mx\u001b[0m\u001b[0;34m,\u001b[0m \u001b[0mnew_x\u001b[0m\u001b[0;34m\u001b[0m\u001b[0;34m\u001b[0m\u001b[0m\n\u001b[1;32m   4146\u001b[0m \u001b[0;34m\u001b[0m\u001b[0m\n\u001b[0;32m-> 4147\u001b[0;31m         validated_indexers = {\n\u001b[0m\u001b[1;32m   4148\u001b[0m             \u001b[0mk\u001b[0m\u001b[0;34m:\u001b[0m \u001b[0m_validate_interp_indexer\u001b[0m\u001b[0;34m(\u001b[0m\u001b[0mmaybe_variable\u001b[0m\u001b[0;34m(\u001b[0m\u001b[0mobj\u001b[0m\u001b[0;34m,\u001b[0m \u001b[0mk\u001b[0m\u001b[0;34m)\u001b[0m\u001b[0;34m,\u001b[0m \u001b[0mv\u001b[0m\u001b[0;34m)\u001b[0m\u001b[0;34m\u001b[0m\u001b[0;34m\u001b[0m\u001b[0m\n\u001b[1;32m   4149\u001b[0m             \u001b[0;32mfor\u001b[0m \u001b[0mk\u001b[0m\u001b[0;34m,\u001b[0m \u001b[0mv\u001b[0m \u001b[0;32min\u001b[0m \u001b[0mindexers\u001b[0m\u001b[0;34m.\u001b[0m\u001b[0mitems\u001b[0m\u001b[0;34m(\u001b[0m\u001b[0;34m)\u001b[0m\u001b[0;34m\u001b[0m\u001b[0;34m\u001b[0m\u001b[0m\n\u001b[1;32m   4150\u001b[0m         \u001b[0;34m}\u001b[0m\u001b[0;34m\u001b[0m\u001b[0;34m\u001b[0m\u001b[0m\n",
      "\u001b[0;32m/glade/u/apps/opt/conda/envs/npl-2025a/lib/python3.12/site-packages/xarray/core/dataset.py\u001b[0m in \u001b[0;36m?\u001b[0;34m(x, new_x)\u001b[0m\n\u001b[1;32m   4134\u001b[0m             \u001b[0;31m# isel, so we need an additional check after _validate_indexers.\u001b[0m\u001b[0;34m\u001b[0m\u001b[0;34m\u001b[0m\u001b[0m\n\u001b[1;32m   4135\u001b[0m             if _contains_datetime_like_objects(\n\u001b[1;32m   4136\u001b[0m                 \u001b[0mx\u001b[0m\u001b[0;34m\u001b[0m\u001b[0;34m\u001b[0m\u001b[0m\n\u001b[1;32m   4137\u001b[0m             \u001b[0;34m)\u001b[0m \u001b[0;32mand\u001b[0m \u001b[0;32mnot\u001b[0m \u001b[0m_contains_datetime_like_objects\u001b[0m\u001b[0;34m(\u001b[0m\u001b[0mnew_x\u001b[0m\u001b[0;34m)\u001b[0m\u001b[0;34m:\u001b[0m\u001b[0;34m\u001b[0m\u001b[0;34m\u001b[0m\u001b[0m\n\u001b[0;32m-> 4138\u001b[0;31m                 raise TypeError(\n\u001b[0m\u001b[1;32m   4139\u001b[0m                     \u001b[0;34m\"When interpolating over a datetime-like \"\u001b[0m\u001b[0;34m\u001b[0m\u001b[0;34m\u001b[0m\u001b[0m\n\u001b[1;32m   4140\u001b[0m                     \u001b[0;34m\"coordinate, the coordinates to \"\u001b[0m\u001b[0;34m\u001b[0m\u001b[0;34m\u001b[0m\u001b[0m\n\u001b[1;32m   4141\u001b[0m                     \u001b[0;34m\"interpolate to must be either datetime \"\u001b[0m\u001b[0;34m\u001b[0m\u001b[0;34m\u001b[0m\u001b[0m\n",
      "\u001b[0;31mTypeError\u001b[0m: When interpolating over a datetime-like coordinate, the coordinates to interpolate to must be either datetime strings or datetimes. Instead got\n<xarray.Variable (time: 325)> Size: 3kB\narray([   184.,    549.,    914.,   1279.,   1644.,   2009.,   2374.,\n         2739.,   3104.,   3469.,   3834.,   4199.,   4564.,   4929.,\n         5294.,   5659.,   6024.,   6389.,   6754.,   7119.,   7484.,\n         7849.,   8214.,   8579.,   8944.,   9309.,   9674.,  10039.,\n        10404.,  10769.,  11134.,  11499.,  11864.,  12229.,  12594.,\n        12959.,  13324.,  13689.,  14054.,  14419.,  14784.,  15149.,\n        15514.,  15879.,  16244.,  16609.,  16974.,  17339.,  17704.,\n        18069.,  18434.,  18799.,  19164.,  19529.,  19894.,  20259.,\n        20624.,  20989.,  21354.,  21719.,  22084.,  22449.,  22814.,\n        23179.,  23544.,  23909.,  24274.,  24639.,  25004.,  25369.,\n        25734.,  26099.,  26464.,  26829.,  27194.,  27559.,  27924.,\n        28289.,  28654.,  29019.,  29384.,  29749.,  30114.,  30479.,\n        30844.,  31209.,  31574.,  31939.,  32304.,  32669.,  33034.,\n        33399.,  33764.,  34129.,  34494.,  34859.,  35224.,  35589.,\n        35954.,  36319.,  36684.,  37049.,  37414.,  37779.,  38144.,\n        38509.,  38874.,  39239.,  39604.,  39969.,  40334.,  40699.,\n        41064.,  41429.,  41794.,  42159.,  42524.,  42889.,  43254.,\n        43619.,  43984.,  44349.,  44714.,  45079.,  45444.,  45809.,\n        46174.,  46539.,  46904.,  47269.,  47634.,  47999.,  48364.,\n        48729.,  49094.,  49459.,  49824.,  50189.,  50554.,  50919.,\n...\n        69169.,  69534.,  69899.,  70264.,  70629.,  70994.,  71359.,\n        71724.,  72089.,  72454.,  72819.,  73184.,  73549.,  73914.,\n        74279.,  74644.,  75009.,  75374.,  75739.,  76104.,  76469.,\n        76834.,  77199.,  77564.,  77929.,  78294.,  78659.,  79024.,\n        79389.,  79754.,  80119.,  80484.,  80849.,  81214.,  81579.,\n        81944.,  82309.,  82674.,  83039.,  83404.,  83769.,  84134.,\n        84499.,  84864.,  85229.,  85594.,  85959.,  86324.,  86689.,\n        87054.,  87419.,  87784.,  88149.,  88514.,  88879.,  89244.,\n        89609.,  89974.,  90339.,  90704.,  91069.,  91434.,  91799.,\n        92164.,  92529.,  92894.,  93259.,  93624.,  93989.,  94354.,\n        94719.,  95084.,  95449.,  95814.,  96179.,  96544.,  96909.,\n        97274.,  97639.,  98004.,  98369.,  98734.,  99099.,  99464.,\n        99829., 100194., 100559., 100924., 101289., 101654., 102019.,\n       102384., 102749., 103114., 103479., 103844., 104209., 104574.,\n       104939., 105304., 105669., 106034., 106399., 106764., 107129.,\n       107494., 107859., 108224., 108589., 108954., 109319., 109684.,\n       110049., 110414., 110779., 111144., 111509., 111874., 112239.,\n       112604., 112969., 113334., 113699., 114064., 114429., 114794.,\n       115159., 115524., 115889., 116254., 116619., 116984., 117349.,\n       117714., 118079., 118444.])"
     ]
    }
   ],
   "source": [
    "# interpolate time\n",
    "trendy_interp_time = trendy_pop_interp.interp(lat=trendy_pop_interp.lat,\n",
    "                                              lon=trendy_pop_interp.lon,\n",
    "                                              time=time_array)"
   ]
  },
  {
   "cell_type": "code",
   "execution_count": null,
   "id": "c6364bef-76ec-46da-8dae-fe9377052441",
   "metadata": {},
   "outputs": [],
   "source": []
  }
 ],
 "metadata": {
  "kernelspec": {
   "display_name": "NPL 2025a",
   "language": "python",
   "name": "npl-2025a"
  },
  "language_info": {
   "codemirror_mode": {
    "name": "ipython",
    "version": 3
   },
   "file_extension": ".py",
   "mimetype": "text/x-python",
   "name": "python",
   "nbconvert_exporter": "python",
   "pygments_lexer": "ipython3",
   "version": "3.12.8"
  }
 },
 "nbformat": 4,
 "nbformat_minor": 5
}
